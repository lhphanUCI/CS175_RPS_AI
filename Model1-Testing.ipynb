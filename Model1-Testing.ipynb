{
 "cells": [
  {
   "cell_type": "code",
   "execution_count": 1,
   "metadata": {},
   "outputs": [],
   "source": [
    "import tensorflow as tf\n",
    "import numpy as np\n",
    "import matplotlib.pyplot as plt\n",
    "import os\n",
    "from sklearn.model_selection import KFold\n",
    "from numpy import mean, argmax\n",
    "\n",
    "import train\n",
    "import loadDataset\n",
    "import model1"
   ]
  },
  {
   "cell_type": "markdown",
   "metadata": {},
   "source": [
    "### Load Dataset"
   ]
  },
  {
   "cell_type": "code",
   "execution_count": 2,
   "metadata": {},
   "outputs": [
    {
     "name": "stdout",
     "output_type": "stream",
     "text": [
      "X: (10962, 64, 64, 3) Y: (10962,)\n"
     ]
    }
   ],
   "source": [
    "X, Y = loadDataset.loadDataSet('./dataset/imgs/rock_frames', './dataset/imgs/paper_frames',\n",
    "                               './dataset/imgs/scissor_frames', './dataset/csvs/rock.csv',\n",
    "                               './dataset/csvs/paper.csv', './dataset/csvs/scissor.csv')\n",
    "X = (X.astype(np.float32) - 128) / 128  # Normalize [-1,1]\n",
    "Y = (Y > 0).astype(int)  # 0: None/NA, 1: Rock/Paper/Scissors\n",
    "\n",
    "print(\"X:\", X.shape, \"Y:\", Y.shape)"
   ]
  },
  {
   "cell_type": "markdown",
   "metadata": {},
   "source": [
    "### Custom Batch Generator\n",
    "(N-45) 45-frame videos are too many to load all at once."
   ]
  },
  {
   "cell_type": "code",
   "execution_count": 3,
   "metadata": {},
   "outputs": [],
   "source": [
    "video_len = 45\n",
    "\n",
    "# Custom Batch Generator\n",
    "def _batches_video(inputs, batch_size, shuffle=False, allow_smaller_final_batch=False):\n",
    "    if not isinstance(inputs, list) and not isinstance(inputs, tuple):\n",
    "        raise TypeError(\"Inputs must be of type list or tuple.\")\n",
    "    if not all([isinstance(x, np.ndarray) for x in inputs]):\n",
    "        raise TypeError(\"Each input in the input list must be a numpy array.\")\n",
    "    total_size = inputs[0].shape[0]\n",
    "    if not all([x.shape[0] == total_size for x in inputs]):\n",
    "        raise RuntimeError(\"All inputs must have equal first dimension.\")\n",
    "\n",
    "    total_size -= video_len\n",
    "    order = np.arange(total_size) if shuffle is False else np.random.permutation(total_size)\n",
    "    for i in range(int(total_size / batch_size)):\n",
    "        start_indices = order[(i)*batch_size:(i+1)*batch_size]                    \n",
    "        yield [np.concatenate([x[None, (start):(start+video_len)] for start in start_indices]) for x in inputs]\n",
    "    if allow_smaller_final_batch:\n",
    "        start_indices = order[int(total_size / batch_size)*batch_size:]                    \n",
    "        yield [np.concatenate([x[None, (start):(start+video_len)] for start in start_indices]) for x in inputs]"
   ]
  },
  {
   "cell_type": "markdown",
   "metadata": {},
   "source": [
    "### Custom Cross-Validation"
   ]
  },
  {
   "cell_type": "code",
   "execution_count": null,
   "metadata": {},
   "outputs": [],
   "source": [
    "# Custom Cross-Validation that uses Custom Batch Generator\n",
    "def cross_validation(session, model, x, y, batch_size=64, epochs=5, K=5, shuffle=False, verbose=True, print_interval=100):\n",
    "    # https://stackoverflow.com/questions/39748660/how-to-perform-k-fold-cross-validation-with-tensorflow\n",
    "    [predict_op, loss_op, accuracy_op, train_op], (X, Y, training) = model\n",
    "\n",
    "    # K-Fold Loop\n",
    "    train_loss, train_accuracy = [], []\n",
    "    valid_loss, valid_accuracy = [], []\n",
    "    k = 0\n",
    "    for train_i, valid_i in KFold(n_splits=K).split(x):\n",
    "        train_loss.append([])\n",
    "        train_accuracy.append([])\n",
    "\n",
    "        session.run(tf.global_variables_initializer())\n",
    "        session.run(tf.local_variables_initializer())\n",
    "\n",
    "        num_train_batches = int(x[train_i].shape[0] / batch_size)\n",
    "        num_valid_batches = int(x[valid_i].shape[0] / batch_size)\n",
    "\n",
    "        # Training\n",
    "        for e in range(epochs):\n",
    "            sum_loss, sum_accuracy = 0, 0\n",
    "            for batch_i, (batch_x, batch_y) in enumerate(_batches_video([x[train_i], y[train_i]], batch_size=batch_size, shuffle=shuffle, allow_smaller_final_batch=False)):\n",
    "                batch_y = batch_y[:, -1]\n",
    "                loss, accuracy, _ = session.run([loss_op, accuracy_op, train_op],\n",
    "                                                feed_dict={X: batch_x, Y: batch_y, training: True})\n",
    "\n",
    "                if verbose and batch_i % print_interval == 0:\n",
    "                    print(\"Train Batch {}: Loss = {}, Accuracy = {}\".format(batch_i, loss, accuracy))\n",
    "                sum_loss += loss\n",
    "                sum_accuracy += accuracy\n",
    "\n",
    "            train_loss[k].append(sum_loss / num_train_batches)\n",
    "            train_accuracy[k].append(sum_accuracy / num_train_batches)\n",
    "            if verbose:\n",
    "                print(\"Epoch {}: Average Train Loss = {}, Average Train Accuracy = {}\\n\"\n",
    "                      .format(e + 1, train_loss[k][e], train_accuracy[k][e]))\n",
    "\n",
    "        # Validation\n",
    "        sum_loss, sum_accuracy = 0, 0\n",
    "        for batch_i, (batch_x, batch_y) in enumerate(_batches_video([x[valid_i], y[valid_i]], batch_size=batch_size, shuffle=shuffle, allow_smaller_final_batch=False)):\n",
    "            batch_y = batch_y[:, -1]\n",
    "            loss, accuracy = session.run([loss_op, accuracy_op],\n",
    "                                         feed_dict={X: batch_x, Y: batch_y, training: False})\n",
    "\n",
    "            if verbose and batch_i % print_interval == 0:\n",
    "                print(\"Valid Batch {}: Loss = {}, Accuracy = {}\".format(batch_i, loss, accuracy))\n",
    "            sum_loss += loss\n",
    "            sum_accuracy += accuracy\n",
    "\n",
    "        valid_loss.append(sum_loss / num_valid_batches)\n",
    "        valid_accuracy.append(sum_accuracy / num_valid_batches)\n",
    "        if verbose:\n",
    "            print(\"Fold {}: Validation Loss = {}, Validation Accuracy = {}\\n\"\n",
    "                  .format(k + 1, valid_loss[k], valid_accuracy[k]))\n",
    "\n",
    "        k += 1\n",
    "\n",
    "    # Results\n",
    "    print(\"Average Valid Loss = {}, Average Valid Accuracy = {}\".format(mean(valid_loss), mean(valid_accuracy)))\n",
    "\n",
    "    plt.figure()\n",
    "    plt.title(\"Training Loss per Epoch\")\n",
    "    plt.plot(np.arange(epochs), np.array(train_loss).T)\n",
    "    plt.xlabel(\"Epoch\")\n",
    "    plt.xticks(np.arange(epochs), np.arange(epochs))\n",
    "    plt.ylabel(\"Loss\")\n",
    "    plt.legend([\"Fold %d\" % i for i in range(1, K+1)])\n",
    "    plt.show()"
   ]
  },
  {
   "cell_type": "markdown",
   "metadata": {},
   "source": [
    "### Start Tensorflow Session"
   ]
  },
  {
   "cell_type": "code",
   "execution_count": null,
   "metadata": {},
   "outputs": [],
   "source": [
    "session = tf.Session()"
   ]
  },
  {
   "cell_type": "markdown",
   "metadata": {},
   "source": [
    "### Construct Model"
   ]
  },
  {
   "cell_type": "code",
   "execution_count": null,
   "metadata": {},
   "outputs": [],
   "source": [
    "model = model1.construct(X.shape[1:])"
   ]
  },
  {
   "cell_type": "markdown",
   "metadata": {},
   "source": [
    "### Cross-Validate"
   ]
  },
  {
   "cell_type": "code",
   "execution_count": null,
   "metadata": {},
   "outputs": [],
   "source": [
    "cross_validation(session, model, X, Y, epochs=5, shuffle=True, print_interval=10)"
   ]
  },
  {
   "cell_type": "code",
   "execution_count": null,
   "metadata": {},
   "outputs": [],
   "source": [
    "session.close()"
   ]
  },
  {
   "cell_type": "markdown",
   "metadata": {},
   "source": [
    "### Train"
   ]
  },
  {
   "cell_type": "code",
   "execution_count": 4,
   "metadata": {},
   "outputs": [],
   "source": [
    "def fit(session, model, x, y, batch_size=64, epochs=5, shuffle=False, verbose=True, print_interval=100):\n",
    "    [predict_op, loss_op, accuracy_op, train_op], (X, Y, training) = model\n",
    "    \n",
    "    session.run(tf.global_variables_initializer())\n",
    "    session.run(tf.local_variables_initializer())\n",
    "    \n",
    "    train_loss, train_accuracy = [], []\n",
    "    valid_loss, valid_accuracy = [], []\n",
    "    \n",
    "    num_train_batches = int(x.shape[0] / batch_size)\n",
    "    \n",
    "    # Training\n",
    "    for e in range(epochs):\n",
    "        sum_loss, sum_accuracy = 0, 0\n",
    "        for batch_i, (batch_x, batch_y) in enumerate(_batches_video([x, y], batch_size=batch_size, shuffle=shuffle, allow_smaller_final_batch=False)):\n",
    "            batch_y = batch_y[:, -1]\n",
    "            loss, accuracy, _ = session.run([loss_op, accuracy_op, train_op],\n",
    "                                            feed_dict={X: batch_x, Y: batch_y, training: True})\n",
    "\n",
    "            if verbose and batch_i % print_interval == 0:\n",
    "                print(\"Train Batch {}: Loss = {}, Accuracy = {}\".format(batch_i, loss, accuracy))\n",
    "            sum_loss += loss\n",
    "            sum_accuracy += accuracy\n",
    "\n",
    "        train_loss.append(sum_loss / num_train_batches)\n",
    "        train_accuracy.append(sum_accuracy / num_train_batches)\n",
    "        if verbose:\n",
    "            print(\"Epoch {}: Average Train Loss = {}, Average Train Accuracy = {}\\n\"\n",
    "                  .format(e + 1, train_loss[e], train_accuracy[e]))\n",
    "    \n",
    "    plt.figure()\n",
    "    plt.title(\"Training Loss per Epoch\")\n",
    "    plt.plot(np.arange(epochs), np.array(train_loss), label=\"Training\")\n",
    "    plt.xlabel(\"Epoch\")\n",
    "    plt.xticks(np.arange(epochs), np.arange(epochs))\n",
    "    plt.ylabel(\"Loss\")\n",
    "    plt.legend()\n",
    "    plt.show()"
   ]
  },
  {
   "cell_type": "code",
   "execution_count": 5,
   "metadata": {},
   "outputs": [
    {
     "name": "stdout",
     "output_type": "stream",
     "text": [
      "WARNING:tensorflow:From c:\\python36\\lib\\site-packages\\tensorflow\\python\\ops\\losses\\losses_impl.py:691: softmax_cross_entropy_with_logits (from tensorflow.python.ops.nn_ops) is deprecated and will be removed in a future version.\n",
      "Instructions for updating:\n",
      "\n",
      "Future major versions of TensorFlow will allow gradients to flow\n",
      "into the labels input on backprop by default.\n",
      "\n",
      "See tf.nn.softmax_cross_entropy_with_logits_v2.\n",
      "\n",
      "Train Batch 0: Loss = 0.7136989831924438, Accuracy = 0.5\n",
      "Train Batch 10: Loss = 0.6348524689674377, Accuracy = 0.609375\n",
      "Train Batch 20: Loss = 0.578149676322937, Accuracy = 0.6875\n",
      "Train Batch 30: Loss = 0.3387063145637512, Accuracy = 0.828125\n",
      "Train Batch 40: Loss = 0.403065025806427, Accuracy = 0.796875\n",
      "Train Batch 50: Loss = 0.572975218296051, Accuracy = 0.734375\n",
      "Train Batch 60: Loss = 0.3696730434894562, Accuracy = 0.859375\n",
      "Train Batch 70: Loss = 0.3761199712753296, Accuracy = 0.84375\n",
      "Train Batch 80: Loss = 0.30383753776550293, Accuracy = 0.890625\n",
      "Train Batch 90: Loss = 0.3166235387325287, Accuracy = 0.890625\n",
      "Train Batch 100: Loss = 0.1541995257139206, Accuracy = 0.96875\n",
      "Train Batch 110: Loss = 0.16078710556030273, Accuracy = 0.96875\n",
      "Train Batch 120: Loss = 0.27649807929992676, Accuracy = 0.859375\n",
      "Train Batch 130: Loss = 0.25996795296669006, Accuracy = 0.875\n",
      "Train Batch 140: Loss = 0.36840781569480896, Accuracy = 0.921875\n",
      "Train Batch 150: Loss = 0.21562877297401428, Accuracy = 0.890625\n",
      "Train Batch 160: Loss = 0.20315024256706238, Accuracy = 0.921875\n",
      "Epoch 1: Average Train Loss = 0.3108020778636486, Average Train Accuracy = 0.8544407894736842\n",
      "\n",
      "Train Batch 0: Loss = 0.13150767982006073, Accuracy = 0.96875\n",
      "Train Batch 10: Loss = 0.1455867439508438, Accuracy = 0.921875\n",
      "Train Batch 20: Loss = 0.18651868402957916, Accuracy = 0.921875\n",
      "Train Batch 30: Loss = 0.1289050281047821, Accuracy = 0.953125\n",
      "Train Batch 40: Loss = 0.19356641173362732, Accuracy = 0.921875\n",
      "Train Batch 50: Loss = 0.15709026157855988, Accuracy = 0.9375\n",
      "Train Batch 60: Loss = 0.22141137719154358, Accuracy = 0.921875\n",
      "Train Batch 70: Loss = 0.12802308797836304, Accuracy = 0.9375\n",
      "Train Batch 80: Loss = 0.09769201278686523, Accuracy = 0.96875\n",
      "Train Batch 90: Loss = 0.06115744262933731, Accuracy = 1.0\n",
      "Train Batch 100: Loss = 0.1770770251750946, Accuracy = 0.9375\n",
      "Train Batch 110: Loss = 0.1133335530757904, Accuracy = 0.96875\n",
      "Train Batch 120: Loss = 0.12061043083667755, Accuracy = 0.96875\n",
      "Train Batch 130: Loss = 0.21851880848407745, Accuracy = 0.9375\n",
      "Train Batch 140: Loss = 0.08558426052331924, Accuracy = 0.96875\n",
      "Train Batch 150: Loss = 0.1773502379655838, Accuracy = 0.9375\n",
      "Train Batch 160: Loss = 0.22858759760856628, Accuracy = 0.90625\n",
      "Epoch 2: Average Train Loss = 0.1538533737872079, Average Train Accuracy = 0.9400584795321637\n",
      "\n"
     ]
    },
    {
     "data": {
      "image/png": "[encoded data removed]",
      "text/plain": [
       "<matplotlib.figure.Figure at 0x1e828ebd9e8>"
      ]
     },
     "metadata": {},
     "output_type": "display_data"
    }
   ],
   "source": [
    "tf.reset_default_graph()\n",
    "with tf.Session() as session:\n",
    "    model = model1.construct(X.shape[1:])\n",
    "    fit(session, model, X, Y, epochs=2, shuffle=True, verbose=True, print_interval=10)\n",
    "    \n",
    "    # Save Model\n",
    "    # https://www.tensorflow.org/programmers_guide/saved_model\n",
    "    save_path = os.path.join(os.getcwd(), \"savedmodels\\\\model1.ckpt\")\n",
    "    saver = tf.train.Saver()\n",
    "    saver.save(session, save_path)\n",
    "    print(\"Session Saved.\")"
   ]
  }
 ],
 "metadata": {
  "kernelspec": {
   "display_name": "Python 3",
   "language": "python",
   "name": "python3"
  },
  "language_info": {
   "codemirror_mode": {
    "name": "ipython",
    "version": 3
   },
   "file_extension": ".py",
   "mimetype": "text/x-python",
   "name": "python",
   "nbconvert_exporter": "python",
   "pygments_lexer": "ipython3",
   "version": "3.6.3"
  }
 },
 "nbformat": 4,
 "nbformat_minor": 2
}
