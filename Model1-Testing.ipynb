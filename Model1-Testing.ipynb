{
 "cells": [
  {
   "cell_type": "code",
   "execution_count": 1,
   "metadata": {},
   "outputs": [],
   "source": [
    "import tensorflow as tf\n",
    "import numpy as np\n",
    "import matplotlib.pyplot as plt\n",
    "import os\n",
    "from sklearn.model_selection import KFold\n",
    "from numpy import mean, argmax\n",
    "\n",
    "import loadDataset\n",
    "import models"
   ]
  },
  {
   "cell_type": "markdown",
   "metadata": {},
   "source": [
    "### Load Dataset"
   ]
  },
  {
   "cell_type": "code",
   "execution_count": 2,
   "metadata": {},
   "outputs": [
    {
     "name": "stdout",
     "output_type": "stream",
     "text": [
      "X: (10962, 64, 64, 3) Y: (10962,)\n"
     ]
    }
   ],
   "source": [
    "X, Y = loadDataset.loadDataSet('./dataset/imgs/rock_frames', './dataset/imgs/paper_frames',\n",
    "                               './dataset/imgs/scissor_frames', './dataset/csvs/rock.csv',\n",
    "                               './dataset/csvs/paper.csv', './dataset/csvs/scissor.csv')\n",
    "X = (X.astype(np.float32) - 128) / 128  # Normalize [-1,1]\n",
    "Y = (Y > 0).astype(int)  # 0: None/NA, 1: Rock/Paper/Scissors\n",
    "\n",
    "print(\"X:\", X.shape, \"Y:\", Y.shape)"
   ]
  },
  {
   "cell_type": "markdown",
   "metadata": {},
   "source": [
    "### Custom Batch Generator\n",
    "(N-45) 45-frame videos are too many to load all at once."
   ]
  },
  {
   "cell_type": "code",
   "execution_count": 5,
   "metadata": {},
   "outputs": [],
   "source": [
    "video_len = 45\n",
    "\n",
    "# Custom Batch Generator\n",
    "def _batches_video(inputs, batch_size, shuffle=False, allow_smaller_final_batch=False):\n",
    "    if not isinstance(inputs, list) and not isinstance(inputs, tuple):\n",
    "        raise TypeError(\"Inputs must be of type list or tuple.\")\n",
    "    if not all([isinstance(x, np.ndarray) for x in inputs]):\n",
    "        raise TypeError(\"Each input in the input list must be a numpy array.\")\n",
    "    total_size = inputs[0].shape[0]\n",
    "    if not all([x.shape[0] == total_size for x in inputs]):\n",
    "        raise RuntimeError(\"All inputs must have equal first dimension.\")\n",
    "\n",
    "    total_size -= video_len\n",
    "    order = np.arange(total_size) if shuffle is False else np.random.permutation(total_size)\n",
    "    for i in range(int(total_size / batch_size)):\n",
    "        start_indices = order[(i)*batch_size:(i+1)*batch_size]                    \n",
    "        yield [np.concatenate([x[None, (start):(start+video_len)] for start in start_indices]) for x in inputs]\n",
    "    if allow_smaller_final_batch:\n",
    "        start_indices = order[int(total_size / batch_size)*batch_size:]                    \n",
    "        yield [np.concatenate([x[None, (start):(start+video_len)] for start in start_indices]) for x in inputs]"
   ]
  },
  {
   "cell_type": "markdown",
   "metadata": {},
   "source": [
    "### Custom Cross-Validation"
   ]
  },
  {
   "cell_type": "code",
   "execution_count": null,
   "metadata": {},
   "outputs": [],
   "source": [
    "# Custom Cross-Validation that uses Custom Batch Generator\n",
    "def cross_validation(session, model, x, y, batch_size=64, epochs=5, K=5, shuffle=False, verbose=True, print_interval=100):\n",
    "    # https://stackoverflow.com/questions/39748660/how-to-perform-k-fold-cross-validation-with-tensorflow\n",
    "    [predict_op, loss_op, accuracy_op, train_op], (X, Y, training) = model\n",
    "\n",
    "    # K-Fold Loop\n",
    "    train_loss, train_accuracy = [], []\n",
    "    valid_loss, valid_accuracy = [], []\n",
    "    k = 0\n",
    "    for train_i, valid_i in KFold(n_splits=K).split(x):\n",
    "        train_loss.append([])\n",
    "        train_accuracy.append([])\n",
    "\n",
    "        session.run(tf.global_variables_initializer())\n",
    "        session.run(tf.local_variables_initializer())\n",
    "\n",
    "        num_train_batches = int(x[train_i].shape[0] / batch_size)\n",
    "        num_valid_batches = int(x[valid_i].shape[0] / batch_size)\n",
    "\n",
    "        # Training\n",
    "        for e in range(epochs):\n",
    "            sum_loss, sum_accuracy = 0, 0\n",
    "            for batch_i, (batch_x, batch_y) in enumerate(_batches_video([x[train_i], y[train_i]], batch_size=batch_size, shuffle=shuffle, allow_smaller_final_batch=False)):\n",
    "                batch_y = batch_y[:, -1]\n",
    "                loss, accuracy, _ = session.run([loss_op, accuracy_op, train_op],\n",
    "                                                feed_dict={X: batch_x, Y: batch_y, training: True})\n",
    "\n",
    "                if verbose and batch_i % print_interval == 0:\n",
    "                    print(\"Train Batch {}: Loss = {}, Accuracy = {}\".format(batch_i, loss, accuracy))\n",
    "                sum_loss += loss\n",
    "                sum_accuracy += accuracy\n",
    "\n",
    "            train_loss[k].append(sum_loss / num_train_batches)\n",
    "            train_accuracy[k].append(sum_accuracy / num_train_batches)\n",
    "            if verbose:\n",
    "                print(\"Epoch {}: Average Train Loss = {}, Average Train Accuracy = {}\\n\"\n",
    "                      .format(e + 1, train_loss[k][e], train_accuracy[k][e]))\n",
    "\n",
    "        # Validation\n",
    "        sum_loss, sum_accuracy = 0, 0\n",
    "        for batch_i, (batch_x, batch_y) in enumerate(_batches_video([x[valid_i], y[valid_i]], batch_size=batch_size, shuffle=shuffle, allow_smaller_final_batch=False)):\n",
    "            batch_y = batch_y[:, -1]\n",
    "            loss, accuracy = session.run([loss_op, accuracy_op],\n",
    "                                         feed_dict={X: batch_x, Y: batch_y, training: False})\n",
    "\n",
    "            if verbose and batch_i % print_interval == 0:\n",
    "                print(\"Valid Batch {}: Loss = {}, Accuracy = {}\".format(batch_i, loss, accuracy))\n",
    "            sum_loss += loss\n",
    "            sum_accuracy += accuracy\n",
    "\n",
    "        valid_loss.append(sum_loss / num_valid_batches)\n",
    "        valid_accuracy.append(sum_accuracy / num_valid_batches)\n",
    "        if verbose:\n",
    "            print(\"Fold {}: Validation Loss = {}, Validation Accuracy = {}\\n\"\n",
    "                  .format(k + 1, valid_loss[k], valid_accuracy[k]))\n",
    "\n",
    "        k += 1\n",
    "\n",
    "    # Results\n",
    "    print(\"Average Valid Loss = {}, Average Valid Accuracy = {}\".format(mean(valid_loss), mean(valid_accuracy)))\n",
    "\n",
    "    plt.figure()\n",
    "    plt.title(\"Training Loss per Epoch\")\n",
    "    plt.plot(np.arange(epochs), np.array(train_loss).T)\n",
    "    plt.xlabel(\"Epoch\")\n",
    "    plt.xticks(np.arange(epochs), np.arange(epochs))\n",
    "    plt.ylabel(\"Loss\")\n",
    "    plt.legend([\"Fold %d\" % i for i in range(1, K+1)])\n",
    "    plt.show()"
   ]
  },
  {
   "cell_type": "markdown",
   "metadata": {},
   "source": [
    "### Start Tensorflow Session"
   ]
  },
  {
   "cell_type": "code",
   "execution_count": null,
   "metadata": {},
   "outputs": [],
   "source": [
    "session = tf.Session()"
   ]
  },
  {
   "cell_type": "markdown",
   "metadata": {},
   "source": [
    "### Construct Model"
   ]
  },
  {
   "cell_type": "code",
   "execution_count": null,
   "metadata": {},
   "outputs": [],
   "source": [
    "model = model1.construct(X.shape[1:])"
   ]
  },
  {
   "cell_type": "markdown",
   "metadata": {},
   "source": [
    "### Cross-Validate"
   ]
  },
  {
   "cell_type": "code",
   "execution_count": null,
   "metadata": {},
   "outputs": [],
   "source": [
    "cross_validation(session, model, X, Y, epochs=5, shuffle=True, print_interval=10)"
   ]
  },
  {
   "cell_type": "code",
   "execution_count": null,
   "metadata": {},
   "outputs": [],
   "source": [
    "session.close()"
   ]
  },
  {
   "cell_type": "markdown",
   "metadata": {},
   "source": [
    "### Train"
   ]
  },
  {
   "cell_type": "code",
   "execution_count": 6,
   "metadata": {},
   "outputs": [],
   "source": [
    "def fit(session, model, x, y, batch_size=64, epochs=5, shuffle=False, verbose=True, print_interval=100):\n",
    "    [predict_op, loss_op, accuracy_op, train_op], (X, Y, training) = model\n",
    "    \n",
    "    session.run(tf.global_variables_initializer())\n",
    "    session.run(tf.local_variables_initializer())\n",
    "    \n",
    "    train_loss, train_accuracy = [], []\n",
    "    valid_loss, valid_accuracy = [], []\n",
    "    \n",
    "    num_train_batches = int(x.shape[0] / batch_size)\n",
    "    \n",
    "    # Training\n",
    "    for e in range(epochs):\n",
    "        sum_loss, sum_accuracy = 0, 0\n",
    "        for batch_i, (batch_x, batch_y) in enumerate(_batches_video([x, y], batch_size=batch_size, shuffle=shuffle, allow_smaller_final_batch=False)):\n",
    "            batch_y = batch_y[:, -1]\n",
    "            loss, accuracy, _ = session.run([loss_op, accuracy_op, train_op],\n",
    "                                            feed_dict={X: batch_x, Y: batch_y, training: True})\n",
    "\n",
    "            if verbose and batch_i % print_interval == 0:\n",
    "                print(\"Train Batch {}: Loss = {}, Accuracy = {}\".format(batch_i, loss, accuracy))\n",
    "            sum_loss += loss\n",
    "            sum_accuracy += accuracy\n",
    "\n",
    "        train_loss.append(sum_loss / num_train_batches)\n",
    "        train_accuracy.append(sum_accuracy / num_train_batches)\n",
    "        if verbose:\n",
    "            print(\"Epoch {}: Average Train Loss = {}, Average Train Accuracy = {}\\n\"\n",
    "                  .format(e + 1, train_loss[e], train_accuracy[e]))\n",
    "    \n",
    "    plt.figure()\n",
    "    plt.title(\"Training Loss per Epoch\")\n",
    "    plt.plot(np.arange(epochs), np.array(train_loss), label=\"Training\")\n",
    "    plt.xlabel(\"Epoch\")\n",
    "    plt.xticks(np.arange(epochs), np.arange(epochs))\n",
    "    plt.ylabel(\"Loss\")\n",
    "    plt.legend()\n",
    "    plt.show()"
   ]
  },
  {
   "cell_type": "code",
   "execution_count": 7,
   "metadata": {},
   "outputs": [
    {
     "name": "stdout",
     "output_type": "stream",
     "text": [
      "Train Batch 0: Loss = 0.6947325468063354, Accuracy = 0.484375\n",
      "Train Batch 10: Loss = 0.6454309225082397, Accuracy = 0.765625\n",
      "Train Batch 20: Loss = 0.6258907914161682, Accuracy = 0.578125\n",
      "Train Batch 30: Loss = 0.5161435604095459, Accuracy = 0.765625\n",
      "Train Batch 40: Loss = 0.370941698551178, Accuracy = 0.890625\n",
      "Train Batch 50: Loss = 0.39299476146698, Accuracy = 0.859375\n",
      "Train Batch 60: Loss = 0.31762951612472534, Accuracy = 0.875\n",
      "Train Batch 70: Loss = 0.2256026268005371, Accuracy = 0.9375\n",
      "Train Batch 80: Loss = 0.23550042510032654, Accuracy = 0.90625\n",
      "Train Batch 90: Loss = 0.18832111358642578, Accuracy = 0.921875\n",
      "Train Batch 100: Loss = 0.203201025724411, Accuracy = 0.921875\n",
      "Train Batch 110: Loss = 0.2166433185338974, Accuracy = 0.90625\n",
      "Train Batch 120: Loss = 0.19869601726531982, Accuracy = 0.9375\n",
      "Train Batch 130: Loss = 0.12463027983903885, Accuracy = 0.9375\n",
      "Train Batch 140: Loss = 0.13964635133743286, Accuracy = 0.953125\n",
      "Train Batch 150: Loss = 0.30323469638824463, Accuracy = 0.859375\n",
      "Train Batch 160: Loss = 0.19481444358825684, Accuracy = 0.9375\n",
      "Epoch 1: Average Train Loss = 0.31177618528841533, Average Train Accuracy = 0.8504203216374269\n",
      "\n",
      "Train Batch 0: Loss = 0.1557427942752838, Accuracy = 0.9375\n",
      "Train Batch 10: Loss = 0.10743498802185059, Accuracy = 0.953125\n",
      "Train Batch 20: Loss = 0.10831139981746674, Accuracy = 0.953125\n",
      "Train Batch 30: Loss = 0.23006729781627655, Accuracy = 0.953125\n",
      "Train Batch 40: Loss = 0.25631606578826904, Accuracy = 0.875\n",
      "Train Batch 50: Loss = 0.11772995442152023, Accuracy = 0.96875\n",
      "Train Batch 60: Loss = 0.1507900357246399, Accuracy = 0.953125\n",
      "Train Batch 70: Loss = 0.0758829116821289, Accuracy = 0.984375\n",
      "Train Batch 80: Loss = 0.14805901050567627, Accuracy = 0.953125\n",
      "Train Batch 90: Loss = 0.11478488147258759, Accuracy = 0.953125\n",
      "Train Batch 100: Loss = 0.173875629901886, Accuracy = 0.9375\n",
      "Train Batch 110: Loss = 0.1541241556406021, Accuracy = 0.9375\n",
      "Train Batch 120: Loss = 0.07746043801307678, Accuracy = 0.984375\n",
      "Train Batch 130: Loss = 0.15818263590335846, Accuracy = 0.96875\n",
      "Train Batch 140: Loss = 0.08197373896837234, Accuracy = 0.953125\n",
      "Train Batch 150: Loss = 0.21885190904140472, Accuracy = 0.9375\n",
      "Train Batch 160: Loss = 0.08889748901128769, Accuracy = 0.953125\n",
      "Epoch 2: Average Train Loss = 0.14128880333482174, Average Train Accuracy = 0.9432565789473685\n",
      "\n"
     ]
    },
    {
     "data": {
      "image/png": "[encoded data removed]",
      "text/plain": [
       "<matplotlib.figure.Figure at 0x22eaea3ddd8>"
      ]
     },
     "metadata": {},
     "output_type": "display_data"
    },
    {
     "name": "stdout",
     "output_type": "stream",
     "text": [
      "Session Saved.\n"
     ]
    }
   ],
   "source": [
    "tf.reset_default_graph()\n",
    "with tf.Session() as session:\n",
    "    image_shape = X.shape[1:]\n",
    "    model = models.model1(image_shape)\n",
    "    fit(session, model, X, Y, epochs=2, shuffle=True, verbose=True, print_interval=10)\n",
    "    \n",
    "    # Save Model\n",
    "    # https://www.tensorflow.org/programmers_guide/saved_model\n",
    "    save_path = os.path.join(os.getcwd(), \"savedmodels\\\\model1\\\\model1.ckpt\")\n",
    "    saver = tf.train.Saver()\n",
    "    saver.save(session, save_path)\n",
    "    print(\"Session Saved.\")"
   ]
  }
 ],
 "metadata": {
  "kernelspec": {
   "display_name": "Python 3",
   "language": "python",
   "name": "python3"
  },
  "language_info": {
   "codemirror_mode": {
    "name": "ipython",
    "version": 3
   },
   "file_extension": ".py",
   "mimetype": "text/x-python",
   "name": "python",
   "nbconvert_exporter": "python",
   "pygments_lexer": "ipython3",
   "version": "3.6.3"
  }
 },
 "nbformat": 4,
 "nbformat_minor": 2
}
