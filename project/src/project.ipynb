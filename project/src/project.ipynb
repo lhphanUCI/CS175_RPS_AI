{
 "cells": [
  {
   "cell_type": "code",
   "execution_count": 1,
   "metadata": {},
   "outputs": [],
   "source": [
    "import os"
   ]
  },
  {
   "cell_type": "code",
   "execution_count": 2,
   "metadata": {},
   "outputs": [],
   "source": [
    "%run main.py"
   ]
  },
  {
   "cell_type": "markdown",
   "metadata": {},
   "source": [
    "# IMPORTANT: To run the next block of code, must place dataset/ and savedmodels/ in /project/src/.\n",
    "dataset: https://drive.google.com/open?id=1tw9W_OWsSr7uEsCCj4sLu0urAfpY4Odq<br />\n",
    "savedmodels: https://drive.google.com/open?id=1WSOvyfcApIcNCWQkAL7EuWONKcmX1BAa<br />"
   ]
  },
  {
   "cell_type": "markdown",
   "metadata": {},
   "source": [
    "## Execute next block of code to run the real time detector on a previously record dataset"
   ]
  },
  {
   "cell_type": "code",
   "execution_count": 3,
   "metadata": {},
   "outputs": [
    {
     "name": "stdout",
     "output_type": "stream",
     "text": [
      "INFO:tensorflow:Restoring parameters from C:\\Users\\LeePhan\\Desktop\\CS175_RPS_AI\\project\\src\\savedmodels\\both\\models.ckpt\n"
     ]
    },
    {
     "data": {
      "text/plain": [
       "<__main__.App at 0x1b3197eb278>"
      ]
     },
     "execution_count": 3,
     "metadata": {},
     "output_type": "execute_result"
    }
   ],
   "source": [
    "if not os.path.exists(\"./datasets\") or not os.path.exists(\"./savedmodels\"):\n",
    "    raise Exception(\"Must download datasets to run the application.\")\n",
    "App(Tk(), replay=True)"
   ]
  },
  {
   "cell_type": "markdown",
   "metadata": {},
   "source": [
    "## Execute next block of code to run the real time detector with webcam"
   ]
  },
  {
   "cell_type": "code",
   "execution_count": 4,
   "metadata": {},
   "outputs": [
    {
     "name": "stdout",
     "output_type": "stream",
     "text": [
      "INFO:tensorflow:Restoring parameters from C:\\Users\\LeePhan\\Desktop\\CS175_RPS_AI\\project\\src\\savedmodels\\both\\models.ckpt\n"
     ]
    },
    {
     "data": {
      "text/plain": [
       "<__main__.App at 0x1b32451aa20>"
      ]
     },
     "execution_count": 4,
     "metadata": {},
     "output_type": "execute_result"
    }
   ],
   "source": [
    "if not os.path.exists(\"./datasets\") or not os.path.exists(\"./savedmodels\"):\n",
    "    raise Exception(\"Must download datasets to run the application.\")\n",
    "App(Tk(), replay=False)"
   ]
  },
  {
   "cell_type": "code",
   "execution_count": null,
   "metadata": {},
   "outputs": [],
   "source": []
  }
 ],
 "metadata": {
  "kernelspec": {
   "display_name": "Python 3",
   "language": "python",
   "name": "python3"
  },
  "language_info": {
   "codemirror_mode": {
    "name": "ipython",
    "version": 3
   },
   "file_extension": ".py",
   "mimetype": "text/x-python",
   "name": "python",
   "nbconvert_exporter": "python",
   "pygments_lexer": "ipython3",
   "version": "3.6.5"
  }
 },
 "nbformat": 4,
 "nbformat_minor": 2
}
