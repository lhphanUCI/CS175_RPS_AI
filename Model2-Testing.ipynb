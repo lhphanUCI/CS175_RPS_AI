{
 "cells": [
  {
   "cell_type": "code",
   "execution_count": 1,
   "metadata": {},
   "outputs": [],
   "source": [
    "import tensorflow as tf\n",
    "import numpy as np\n",
    "import matplotlib.pyplot as plt\n",
    "import os\n",
    "from sklearn.model_selection import KFold\n",
    "from numpy import mean, argmax\n",
    "\n",
    "import train\n",
    "import loadDataset\n",
    "import model2"
   ]
  },
  {
   "cell_type": "markdown",
   "metadata": {},
   "source": [
    "### Load Dataset"
   ]
  },
  {
   "cell_type": "code",
   "execution_count": 2,
   "metadata": {},
   "outputs": [
    {
     "name": "stdout",
     "output_type": "stream",
     "text": [
      "X: (4532, 64, 64, 3) Y: (4532,)\n"
     ]
    }
   ],
   "source": [
    "X, Y = loadDataset.loadDataSet('./dataset/imgs/rock_frames', './dataset/imgs/paper_frames',\n",
    "                               './dataset/imgs/scissor_frames', './dataset/csvs/rock.csv',\n",
    "                               './dataset/csvs/paper.csv', './dataset/csvs/scissor.csv')\n",
    "X = (X.astype(np.float32) - 128) / 128  # Normalize [-1,1]\n",
    "X, Y = X[Y > 0], Y[Y > 0] - 1  # Y is 0-based containing only Rock, Paper, or Scissors.\n",
    "\n",
    "print(\"X:\", X.shape, \"Y:\", Y.shape)"
   ]
  },
  {
   "cell_type": "markdown",
   "metadata": {},
   "source": [
    "### Custom Batch Generator\n",
    "1 frame at a time."
   ]
  },
  {
   "cell_type": "code",
   "execution_count": 3,
   "metadata": {},
   "outputs": [],
   "source": [
    "def _batches(inputs, batch_size, shuffle=False, allow_smaller_final_batch=False):\n",
    "    if not isinstance(inputs, list) and not isinstance(inputs, tuple):\n",
    "        raise TypeError(\"Inputs must be of type list or tuple.\")\n",
    "    if not all([isinstance(x, np.ndarray) for x in inputs]):\n",
    "        raise TypeError(\"Each input in the input list must be a numpy array.\")\n",
    "    total_size = inputs[0].shape[0]\n",
    "    if not all([x.shape[0] == total_size for x in inputs]):\n",
    "        raise RuntimeError(\"All inputs must have equal first dimension.\")\n",
    "\n",
    "    order = np.arange(total_size) if shuffle is False else np.random.permutation(total_size)\n",
    "    for i in range(int(total_size / batch_size)):\n",
    "        yield [x[order[(i)*batch_size:(i+1)*batch_size]] for x in inputs]\n",
    "    if allow_smaller_final_batch:\n",
    "        yield [x[order[int(total_size / batch_size)*batch_size:]] for x in inputs]"
   ]
  },
  {
   "cell_type": "markdown",
   "metadata": {},
   "source": [
    "### Custom Cross-Validation"
   ]
  },
  {
   "cell_type": "code",
   "execution_count": null,
   "metadata": {},
   "outputs": [],
   "source": [
    "def cross_valididation(session, model, x, y, batch_size=64, epochs=5, K=5, shuffle=False, verbose=True, print_interval=100):\n",
    "    # https://stackoverflow.com/questions/39748660/how-to-perform-k-fold-cross-validation-with-tensorflow\n",
    "    [predict_op, loss_op, accuracy_op, train_op], (X, Y, training) = model\n",
    "\n",
    "    # K-Fold Loop\n",
    "    train_loss, train_accuracy = [], []\n",
    "    valid_loss, valid_accuracy = [], []\n",
    "    k = 0\n",
    "    for train_i, valid_i in KFold(n_splits=K).split(x):\n",
    "        train_loss.append([])\n",
    "        train_accuracy.append([])\n",
    "\n",
    "        session.run(tf.global_variables_initializer())\n",
    "        session.run(tf.local_variables_initializer())\n",
    "\n",
    "        num_train_batches = int(x[train_i].shape[0] / batch_size)\n",
    "        num_valid_batches = int(x[valid_i].shape[0] / batch_size)\n",
    "\n",
    "        # Training\n",
    "        for e in range(epochs):\n",
    "            sum_loss, sum_accuracy = 0, 0\n",
    "            for batch_i, (batch_x, batch_y) in enumerate(_batches([x[train_i], y[train_i]], batch_size=batch_size, shuffle=shuffle, allow_smaller_final_batch=False)):\n",
    "                loss, accuracy, _ = session.run([loss_op, accuracy_op, train_op],\n",
    "                                                feed_dict={X: batch_x, Y: batch_y, training: True})\n",
    "\n",
    "                if verbose and batch_i % print_interval == 0:\n",
    "                    print(\"Train Batch {}: Loss = {}, Accuracy = {}\".format(batch_i + 1, loss, accuracy))\n",
    "                sum_loss += loss\n",
    "                sum_accuracy += accuracy\n",
    "\n",
    "            train_loss[k].append(sum_loss / num_train_batches)\n",
    "            train_accuracy[k].append(sum_accuracy / num_train_batches)\n",
    "            if verbose:\n",
    "                print(\"Epoch {}: Average Train Loss = {}, Average Train Accuracy = {}\\n\"\n",
    "                      .format(e + 1, train_loss[k][e], train_accuracy[k][e]))\n",
    "\n",
    "        # Validation\n",
    "        sum_loss, sum_accuracy = 0, 0\n",
    "        for batch_i, (batch_x, batch_y) in enumerate(_batches([x[valid_i], y[valid_i]], batch_size=batch_size, shuffle=shuffle, allow_smaller_final_batch=False)):\n",
    "            loss, accuracy = session.run([loss_op, accuracy_op],\n",
    "                                         feed_dict={X: batch_x, Y: batch_y, training: False})\n",
    "\n",
    "            if verbose and batch_i % print_interval == 0:\n",
    "                print(\"Valid Batch {}: Loss = {}, Accuracy = {}\".format(batch_i + 1, loss, accuracy))\n",
    "            sum_loss += loss\n",
    "            sum_accuracy += accuracy\n",
    "\n",
    "        valid_loss.append(sum_loss / num_valid_batches)\n",
    "        valid_accuracy.append(sum_accuracy / num_valid_batches)\n",
    "        if verbose:\n",
    "            print(\"Fold {}: Validation Loss = {}, Validation Accuracy = {}\\n\"\n",
    "                  .format(k + 1, valid_loss[k], valid_accuracy[k]))\n",
    "\n",
    "        k += 1\n",
    "\n",
    "    # Results\n",
    "    print(\"Average Valid Loss = {}, Average Valid Accuracy = {}\".format(mean(valid_loss), mean(valid_accuracy)))\n",
    "\n",
    "    plt.figure()\n",
    "    plt.title(\"Training Loss per Epoch\")\n",
    "    plt.plot(np.arange(epochs), np.array(train_loss).T)\n",
    "    plt.xlabel(\"Epoch\")\n",
    "    plt.xticks(np.arange(epochs), np.arange(epochs))\n",
    "    plt.ylabel(\"Loss\")\n",
    "    plt.legend([\"Fold %d\" % i for i in range(1, K+1)])\n",
    "    plt.show()"
   ]
  },
  {
   "cell_type": "markdown",
   "metadata": {},
   "source": [
    "### Cross Validate"
   ]
  },
  {
   "cell_type": "code",
   "execution_count": null,
   "metadata": {},
   "outputs": [],
   "source": [
    "tf.reset_default_graphs()\n",
    "with tf.Session() as session:\n",
    "    model = model2.construct(X.shape[1:])\n",
    "    cross_validation(model, session, X, Y, epochs=5, shuffle=True, print_interval=10)"
   ]
  },
  {
   "cell_type": "markdown",
   "metadata": {},
   "source": [
    "### Train"
   ]
  },
  {
   "cell_type": "code",
   "execution_count": 4,
   "metadata": {},
   "outputs": [],
   "source": [
    "def fit(session, model, x, y, batch_size=64, epochs=5, shuffle=False, verbose=True, print_interval=100):\n",
    "    [predict_op, loss_op, accuracy_op, train_op], (X, Y, training) = model\n",
    "    \n",
    "    session.run(tf.global_variables_initializer())\n",
    "    session.run(tf.local_variables_initializer())\n",
    "    \n",
    "    train_loss, train_accuracy = [], []\n",
    "    valid_loss, valid_accuracy = [], []\n",
    "    \n",
    "    num_train_batches = int(x.shape[0] / batch_size)\n",
    "    \n",
    "    # Training\n",
    "    for e in range(epochs):\n",
    "        sum_loss, sum_accuracy = 0, 0\n",
    "        for batch_i, (batch_x, batch_y) in enumerate(_batches([x, y], batch_size=batch_size, shuffle=shuffle, allow_smaller_final_batch=False)):\n",
    "            loss, accuracy, _ = session.run([loss_op, accuracy_op, train_op],\n",
    "                                            feed_dict={X: batch_x, Y: batch_y, training: True})\n",
    "\n",
    "            if verbose and batch_i % print_interval == 0:\n",
    "                print(\"Train Batch {}: Loss = {}, Accuracy = {}\".format(batch_i, loss, accuracy))\n",
    "            sum_loss += loss\n",
    "            sum_accuracy += accuracy\n",
    "\n",
    "        train_loss.append(sum_loss / num_train_batches)\n",
    "        train_accuracy.append(sum_accuracy / num_train_batches)\n",
    "        if verbose:\n",
    "            print(\"Epoch {}: Average Train Loss = {}, Average Train Accuracy = {}\\n\"\n",
    "                  .format(e + 1, train_loss[e], train_accuracy[e]))\n",
    "    \n",
    "    plt.figure()\n",
    "    plt.title(\"Training Loss per Epoch\")\n",
    "    plt.plot(np.arange(epochs), np.array(train_loss), label=\"Training\")\n",
    "    plt.xlabel(\"Epoch\")\n",
    "    plt.xticks(np.arange(epochs), np.arange(epochs))\n",
    "    plt.ylabel(\"Loss\")\n",
    "    plt.legend()\n",
    "    plt.show()"
   ]
  },
  {
   "cell_type": "code",
   "execution_count": 6,
   "metadata": {},
   "outputs": [
    {
     "name": "stdout",
     "output_type": "stream",
     "text": [
      "Train Batch 0: Loss = 1.1639447212219238, Accuracy = 0.21875\n",
      "Train Batch 10: Loss = 0.7148972749710083, Accuracy = 0.703125\n",
      "Train Batch 20: Loss = 0.04566273093223572, Accuracy = 1.0\n",
      "Train Batch 30: Loss = 0.0011266906512901187, Accuracy = 1.0\n",
      "Train Batch 40: Loss = 0.003145860508084297, Accuracy = 1.0\n",
      "Train Batch 50: Loss = 2.219674024672713e-05, Accuracy = 1.0\n",
      "Train Batch 60: Loss = 8.739336408325471e-06, Accuracy = 1.0\n",
      "Epoch 1: Average Train Loss = 0.19510062884615503, Average Train Accuracy = 0.9107142857142857\n",
      "\n",
      "Train Batch 0: Loss = 1.2927159332321025e-05, Accuracy = 1.0\n",
      "Train Batch 10: Loss = 4.544664989225566e-06, Accuracy = 1.0\n",
      "Train Batch 20: Loss = 3.1254680834535975e-06, Accuracy = 1.0\n",
      "Train Batch 30: Loss = 2.0060347196704242e-06, Accuracy = 1.0\n",
      "Train Batch 40: Loss = 1.6950059489317937e-07, Accuracy = 1.0\n",
      "Train Batch 50: Loss = 6.053559218344162e-07, Accuracy = 1.0\n",
      "Train Batch 60: Loss = 8.735686378713581e-07, Accuracy = 1.0\n",
      "Epoch 2: Average Train Loss = 4.503759363266064e-06, Average Train Accuracy = 1.0\n",
      "\n"
     ]
    },
    {
     "data": {
      "image/png": "[encoded data removed]",
      "text/plain": [
       "<matplotlib.figure.Figure at 0x2bb00f98978>"
      ]
     },
     "metadata": {},
     "output_type": "display_data"
    }
   ],
   "source": [
    "tf.reset_default_graph()\n",
    "with tf.Session() as session:\n",
    "    model = model2.construct(X.shape[1:])\n",
    "    fit(session, model, X, Y, epochs=2, shuffle=True, verbose=True, print_interval=10)\n",
    "    \n",
    "    # Save Model\n",
    "    # https://www.tensorflow.org/programmers_guide/saved_model\n",
    "    save_path = os.path.join(os.getcwd(), \"savedmodels\\\\model2.ckpt\")\n",
    "    saver = tf.train.Saver()\n",
    "    saver.save(session, save_path)\n",
    "    print(\"Session Saved.\")"
   ]
  }
 ],
 "metadata": {
  "kernelspec": {
   "display_name": "Python 3",
   "language": "python",
   "name": "python3"
  },
  "language_info": {
   "codemirror_mode": {
    "name": "ipython",
    "version": 3
   },
   "file_extension": ".py",
   "mimetype": "text/x-python",
   "name": "python",
   "nbconvert_exporter": "python",
   "pygments_lexer": "ipython3",
   "version": "3.6.3"
  }
 },
 "nbformat": 4,
 "nbformat_minor": 2
}
